{
  "nbformat": 4,
  "nbformat_minor": 0,
  "metadata": {
    "colab": {
      "name": "well_log_viz.ipynb",
      "provenance": [],
      "toc_visible": true
    },
    "kernelspec": {
      "name": "python3",
      "display_name": "Python 3"
    }
  },
  "cells": [
    {
      "cell_type": "markdown",
      "metadata": {
        "id": "VHaKeslVIb-c",
        "colab_type": "text"
      },
      "source": [
        "# Welcome to the Well Data Interactive Visualization Tutorial for Transform 2020\n",
        "## By: Ashley Russell, Product Owner@Equinor\n",
        "\n",
        "## Agenda:\n",
        "\n",
        "\n",
        "*   The soft stuff - why make pretty pictures that have interaction? (15 min)\n",
        "*   Getting the data set together for visualizating and interacting (30 min)\n",
        "*   Building blocks (45 min)\n",
        "  * First with one well\n",
        "  * Then with more wells\n",
        "*   Your first python dashboard (30 min)\n",
        "\n",
        "\n",
        "\n",
        "\n"
      ]
    },
    {
      "cell_type": "markdown",
      "metadata": {
        "id": "z9otPnGmVmKc",
        "colab_type": "text"
      },
      "source": [
        "## 1. The Soft Stuff.  \n",
        "\n",
        "You have been working on a coding project and are asked to present \"in the raw\" to demonstrate what you have been doing.  What do you show, how do you show it and why?\n",
        "\n",
        "## Color\n",
        "Instant recognitition even before you say anything.\n",
        "<p><img src=\"https://thumbor.forbes.com/thumbor/960x0/https%3A%2F%2Fblogs-images.forbes.com%2Fevamurray%2Ffiles%2F2019%2F03%2FGerman-discipline.jpg\" ></p>\n",
        "\n",
        "In geology and geophysics we are atuned to certain colors representing domain-specific things.\n",
        "\n",
        "What would this mean to you?\n",
        "\n",
        "<p><img src=\"https://www.color-hex.com/palettes/43054.png\" ></p>\n",
        "\n",
        "And this one?\n",
        "\n",
        "<p><img src=\"https://i.stack.imgur.com/E4Cpw.png\" ></p>\n",
        "\n",
        "#### (If you can tell me which flag this is...bonus points)\n",
        "\n",
        "Key point is that colors convey silent messages, choose wisely and know your audience.  This becomes important when we go to the next soft subject.\n",
        "\n",
        "More reading found here: https://agilescientific.com/blog/2013/8/20/five-more-things-about-colour.html\n",
        "\n",
        "## Familiarity\n",
        "\n",
        "Most geoscientists, especially those working in energy/mining companies are familiar with specific domain software.  These software have existed in these industries for the past 25 years and they have left a significant imprint on how we expect geologic data to be presented.  Think about how many powerpoints you may have seen that have screenshots from certain petrophysical or oil and gas software in them.  \n",
        "\n",
        "As we try to move to more raw code sharing and embedded visualization, remember the bias that many in your audience may have on how they expect data to be presented due to their work with conventional software.  And of course, basic geological logic and expectations...\n",
        "\n",
        "Some things to think about:\n",
        "\n",
        "* What units are you in?  \n",
        "* What scale to use?  \n",
        "* What is familiar to your audience? Are you presenting to hardcore petrophysicists or more general geoscientists?  Geophysicists? \n",
        "* What visualization dimensions (ie length/width) make sense?\n",
        "* How can you ensure that the audience is seeing things in the right units?\n",
        "\n",
        "## Unlocking Storytelling with Interactivity\n",
        "\n",
        "From my experience, adding interactivity to your visualizations within a live sharing session in a notebook (or web GUI) for demoing to \"non-coding\" geoscientists has two benefits:\n",
        "\n",
        "1. Prevents \"overwhelming\"\n",
        "2. Proves that what you are doing actually works (question-ready!)\n",
        "\n",
        "First, the topic of being overwhelming.  If you create some huge plot or dashboard showing well data from 10 different wells with cross plots, histograms, and a well section all at one time, it may look impressive, but more than likely, especially if you have an audience that doesn't look at a lot of python notebooks, they will be very confused.  And most likely, any units or measurements will be too small to read.  Begin by showing each of the components and the interactivity available there. For example, swap between wells, or between lithologies on the individual plots.  Allow them to work with the individual components before revealing the big final dashboard or summarizing plot.  We will have some examples of this below.\n",
        "\n",
        "Doesn't this terrify you?:\n",
        "<p><img src=\"https://imgix.datadoghq.com/img/dashboarding/Dashboards-vid-01-v01.png\" ></p>\n",
        "\n",
        "Second, interactivity allows you to be \"question-ready\".  I expect that when presenting you are trying to answer a question or investigate a certain problem with your code.  Anticipate what the audience will ask about and allow them through interactivity to ask these questions on the fly, while you change the plots to show them what they are interested in.  For example, an audience member may ask \"We didn't see this problem in Well X, does your data show that?\" - use the interactivity you have built in to allow you to quickly change the plot to look at Well X.  Your audience will trust you more and it often leads to great discussions.\n",
        "\n",
        "# Trust\n",
        "\n",
        "Overall, all these \"soft things\" above drive at gaining trust with your audience when presenting code.  At least in my workplace, demonstrating in a python notebook is still very foreign to the geoscience community.  It is up to you to prove that your work is of the same quality (perhaps better) than the software systems they currently trust!"
      ]
    },
    {
      "cell_type": "markdown",
      "metadata": {
        "id": "akHZTba7Lit8",
        "colab_type": "text"
      },
      "source": [
        "## 2. Preparation"
      ]
    },
    {
      "cell_type": "markdown",
      "metadata": {
        "id": "K9xtXMh0Lp_J",
        "colab_type": "text"
      },
      "source": [
        "We don't need to worry about each of you getting packages installed or python working while we use Google Colab, but when you get back to your own environment, here are the packages and the settings to use in your Jupyter Notebook to get all the cool stuff below working."
      ]
    },
    {
      "cell_type": "markdown",
      "metadata": {
        "id": "hO_LxFbOxFRM",
        "colab_type": "text"
      },
      "source": [
        "Please select the \"Open in Playground\" button at the top of Google Colab"
      ]
    },
    {
      "cell_type": "markdown",
      "metadata": {
        "id": "bokXly8lUu4s",
        "colab_type": "text"
      },
      "source": [
        "### 2.1 Packages Install"
      ]
    },
    {
      "cell_type": "code",
      "metadata": {
        "id": "n8l9u5D9Mn53",
        "colab_type": "code",
        "colab": {}
      },
      "source": [
        "## But we do need to install a few packages into the Google Colab environment (most come with it already):\n",
        "!pip install plotly_express\n",
        "!pip install --upgrade hvplot\n",
        "!pip install --upgrade bokeh\n",
        "!pip install --upgrade holoviews\n",
        "!pip install lasio\n",
        "!pip install -U ipykernel\n",
        "!pip install --upgrade panel"
      ],
      "execution_count": 0,
      "outputs": []
    },
    {
      "cell_type": "code",
      "metadata": {
        "id": "N7rjK7_-JN5v",
        "colab_type": "code",
        "colab": {}
      },
      "source": [
        "## Some common packages you already probably know:\n",
        "import pandas as pd\n",
        "import matplotlib.pyplot as plt\n",
        "import lasio as ls\n",
        "import numpy as np\n",
        "\n",
        "## Some perhaps new packages we will use today:\n",
        "import plotly_express as px\n",
        "import hvplot\n",
        "import hvplot.pandas\n",
        "import holoviews as hv\n",
        "import panel as pn"
      ],
      "execution_count": 0,
      "outputs": []
    },
    {
      "cell_type": "markdown",
      "metadata": {
        "id": "WfM2GTFjTqKC",
        "colab_type": "text"
      },
      "source": [
        "### 2.2 Packages Info\n",
        "\n",
        "We will be working with two main visualization packages today - plotly express and Holoviews (hvplot).  Both of these packages are wrappers  around matplotlib to create amazingly easy interactive visualizations.  Then we will be using a dashboarding package called panel to combine our plots together.\n",
        "\n",
        "* https://plotly.com/python/plotly-express/ - I highly recommend reading through the Reference Documentation on this page.\n",
        "* https://hvplot.holoviz.org/ - bit more complex than plotly-express\n",
        "* https://panel.holoviz.org/ - stitching plots together"
      ]
    },
    {
      "cell_type": "markdown",
      "metadata": {
        "id": "gQjwtSyWU4XT",
        "colab_type": "text"
      },
      "source": [
        "### 2.3 Single Well File Dataset Load\n",
        "\n",
        "We will be using open source data from Australia today - https://nopims.dmp.wa.gov.au/Nopims/\n",
        "\n",
        "You should be accessing the following file (you will need Google Drive): https://drive.google.com/file/d/1Lws7PztcgZlKT4TQNfmojDesKSOIZ56X/view?usp=sharing"
      ]
    },
    {
      "cell_type": "code",
      "metadata": {
        "id": "TmP6TKuUX-Re",
        "colab_type": "code",
        "colab": {}
      },
      "source": [
        "## Then we need to load some data (we will use a .las file for now from a well in the NOPIMS Australia dataset)\n",
        "from google.colab import drive\n",
        "drive.mount('/content/drive/')"
      ],
      "execution_count": 0,
      "outputs": []
    },
    {
      "cell_type": "code",
      "metadata": {
        "id": "SxxDeIuSZmzd",
        "colab_type": "code",
        "colab": {}
      },
      "source": [
        "filepath = r'/content/drive/My Drive/Pharos-1 Ascii Drill Data_481.5-5220m.LAS'"
      ],
      "execution_count": 0,
      "outputs": []
    },
    {
      "cell_type": "code",
      "metadata": {
        "id": "Ee6JVkwJaZGU",
        "colab_type": "code",
        "colab": {}
      },
      "source": [
        "def load_las_to_df(filepath):\n",
        "  las = ls.read(filepath)\n",
        "  wellname = las.well.WELL.value\n",
        "  df=las.df()\n",
        "  df.reset_index(inplace=True)\n",
        "  df['DEPTH'] = df['UNKNOWN']\n",
        "  df['WELLNAME'] = wellname\n",
        "  df.drop(axis=1, columns='UNKNOWN', inplace=True)\n",
        "  return df;"
      ],
      "execution_count": 0,
      "outputs": []
    },
    {
      "cell_type": "code",
      "metadata": {
        "id": "UYZwUOytbosK",
        "colab_type": "code",
        "colab": {}
      },
      "source": [
        "pharos_curve_df = load_las_to_df(filepath)"
      ],
      "execution_count": 0,
      "outputs": []
    },
    {
      "cell_type": "code",
      "metadata": {
        "id": "y5pkXZIYvWAc",
        "colab_type": "code",
        "colab": {}
      },
      "source": [
        "pharos_curve_df"
      ],
      "execution_count": 0,
      "outputs": []
    },
    {
      "cell_type": "markdown",
      "metadata": {
        "id": "1TaO6GT_ZtTd",
        "colab_type": "text"
      },
      "source": [
        "Now, with this single well dataset - mudlogs from a well called Pharos-1 offshore Australia, we want to illustrate some relationships between the drilling parameters and the lithology.  The lithology however is in a separate file, let's load that in and take a look.  We need to look at the data structure to find the best way to combine them - especially if we want some sort of interactivity with lithology.\n",
        "\n",
        "You should be accessing the following file: https://drive.google.com/file/d/1splcE2E_SXjsRq4olHmlqFPHwDNtSLZO/view?usp=sharing"
      ]
    },
    {
      "cell_type": "code",
      "metadata": {
        "id": "E2_XjwUYcoi3",
        "colab_type": "code",
        "colab": {}
      },
      "source": [
        "filepath = r'/content/drive/My Drive/Pharos-1 Ascii Lithology Intrepretation_2330m to 5220m.xlsx'"
      ],
      "execution_count": 0,
      "outputs": []
    },
    {
      "cell_type": "code",
      "metadata": {
        "id": "EeXkskUdc-ua",
        "colab_type": "code",
        "colab": {}
      },
      "source": [
        "def load_lithxls_to_df(filepath):\n",
        "  df_lith = pd.read_excel(filepath, header=1, skiprows=1)\n",
        "  df_lith.dropna(axis=0, inplace=True)\n",
        "  df_lith.reset_index(drop=True, inplace=True)\n",
        "  df_lith['Litho_description'] = df_lith['Litho description']\n",
        "  df_lith['To depth'] = df_lith['To depth'].astype('float64')\n",
        "  df_lith['From depth'] = df_lith['From depth'].astype('float64')\n",
        "  df_lith.drop(axis=1, columns='Litho description', inplace=True)\n",
        "  return df_lith;"
      ],
      "execution_count": 0,
      "outputs": []
    },
    {
      "cell_type": "code",
      "metadata": {
        "id": "do165XJwtJJh",
        "colab_type": "code",
        "colab": {}
      },
      "source": [
        "pharos_lith_df = load_lithxls_to_df(filepath)"
      ],
      "execution_count": 0,
      "outputs": []
    },
    {
      "cell_type": "code",
      "metadata": {
        "id": "NGHCZh-jxD1a",
        "colab_type": "code",
        "colab": {}
      },
      "source": [
        "pharos_lith_df"
      ],
      "execution_count": 0,
      "outputs": []
    },
    {
      "cell_type": "markdown",
      "metadata": {
        "id": "6wd3Fjukg51M",
        "colab_type": "text"
      },
      "source": [
        "Looks like our data isn't quite as easy to merge as we like.  The lithology is expressed as ranges of depth.  Luckily, pandas can sort this out for us using IntervalIndex to build a list of intervals.  In order to get interactivity on a variable like this, we need to have a value filled in for each row in our mud log dataframe so we have a column called \"Lithology\"."
      ]
    },
    {
      "cell_type": "code",
      "metadata": {
        "id": "rs1TS84S1BrN",
        "colab_type": "code",
        "colab": {}
      },
      "source": [
        "pharos_lith_df.index = pd.IntervalIndex.from_arrays(pharos_lith_df['From depth'],pharos_lith_df['To depth'],closed='both')\n",
        "pharos_curve_df['LITHOLOGY'] = pharos_curve_df['DEPTH'].apply(\n",
        "    lambda x : pharos_lith_df.iloc[pharos_lith_df.index.get_loc(x)]['Litho_description'])"
      ],
      "execution_count": 0,
      "outputs": []
    },
    {
      "cell_type": "code",
      "metadata": {
        "id": "Z0xocwoq2AsR",
        "colab_type": "code",
        "colab": {}
      },
      "source": [
        "pharos_lith_df"
      ],
      "execution_count": 0,
      "outputs": []
    },
    {
      "cell_type": "code",
      "metadata": {
        "id": "9XsfNa7Fhb09",
        "colab_type": "code",
        "colab": {}
      },
      "source": [
        "## There are a few errors in the file where the matching didn't work.  \n",
        "## The original file would need to be cleaned up.  \n",
        "## For simplicity, we will drop those rows\n",
        "def drop_weird_results(dataframe, columnname, searchstring):\n",
        "  dataframe[columnname]=dataframe[columnname].astype('str')\n",
        "  dataframe = dataframe[~dataframe[columnname].str.contains(searchstring)]\n",
        "  dataframe.reset_index(drop=True, inplace=True)\n",
        "  return dataframe;"
      ],
      "execution_count": 0,
      "outputs": []
    },
    {
      "cell_type": "code",
      "metadata": {
        "id": "d560mAyDAEQO",
        "colab_type": "code",
        "colab": {}
      },
      "source": [
        "pharos_curve_df = drop_weird_results(pharos_curve_df, 'LITHOLOGY', 'Name:')"
      ],
      "execution_count": 0,
      "outputs": []
    },
    {
      "cell_type": "markdown",
      "metadata": {
        "id": "nil-NsAjA62D",
        "colab_type": "text"
      },
      "source": [
        "Now we have a dataset for a single well with a category variable we can use for interactivity later..."
      ]
    },
    {
      "cell_type": "code",
      "metadata": {
        "id": "io5Lp9B8A4hl",
        "colab_type": "code",
        "colab": {}
      },
      "source": [
        "pharos_curve_df.tail()"
      ],
      "execution_count": 0,
      "outputs": []
    },
    {
      "cell_type": "markdown",
      "metadata": {
        "id": "j0sAiOs_hgC1",
        "colab_type": "text"
      },
      "source": [
        "## 3. Building Blocks"
      ]
    },
    {
      "cell_type": "markdown",
      "metadata": {
        "id": "CcQzuQ0ajxVw",
        "colab_type": "text"
      },
      "source": [
        "### 3.1 Single well visualization with Pharos-1"
      ]
    },
    {
      "cell_type": "markdown",
      "metadata": {
        "id": "3QT0ddFXj4jt",
        "colab_type": "text"
      },
      "source": [
        "#### 3.1a A first look at plotly express\n",
        "\n",
        "Let's start with a simple implementation of comparing our drilling depth with the pipe pressure.  We will add the temperature of the mud coming out of hole as our color.  This plot should give us some idea about the temperatures and pressures that occured during drilling this well."
      ]
    },
    {
      "cell_type": "code",
      "metadata": {
        "id": "1C3CdblXJdWa",
        "colab_type": "code",
        "colab": {}
      },
      "source": [
        "px.scatter(pharos_curve_df, x='DEPTH', y='STAND PIPE PRESSURE', color='TEMPERATURE OUT')"
      ],
      "execution_count": 0,
      "outputs": []
    },
    {
      "cell_type": "markdown",
      "metadata": {
        "id": "rCrpLcA4QFRQ",
        "colab_type": "text"
      },
      "source": [
        "You can see with a plotly express plot, you get some neat tools for examining your plot - you can hover over data points, read values, and zoom in and out."
      ]
    },
    {
      "cell_type": "markdown",
      "metadata": {
        "id": "5Ac4VXRSJOfr",
        "colab_type": "text"
      },
      "source": [
        "#### Question 3.1a1:\n",
        "\n",
        "How could we make this plot easier for a geologist, driller, or petrophysicist to look at?"
      ]
    },
    {
      "cell_type": "code",
      "metadata": {
        "id": "XnuxWEJCcDUb",
        "colab_type": "code",
        "colab": {}
      },
      "source": [
        "px.scatter(pharos_curve_df, x='STAND PIPE PRESSURE', y='DEPTH', color='TEMPERATURE OUT', \n",
        "           labels={'STAND PIPE PRESSURE':'STAND PIPE PRESSURE (PSI)', 'DEPTH':'DEPTH (m)', 'TEMPERATURE OUT':'TEMPERATURE OUT (degC)'}, \n",
        "           range_y=[5220,0], range_color=[0,50], width=700, height=1000)"
      ],
      "execution_count": 0,
      "outputs": []
    },
    {
      "cell_type": "markdown",
      "metadata": {
        "id": "vCfxr2c-gRfg",
        "colab_type": "text"
      },
      "source": [
        "It is important to point out that one of the things that irritates me most when others plot well data is the lack of reversing the depth range!  But, as you will see, the parameters to reverse the y-axis differ from plotting package to plotting package.  Take another look at how plotly express does it above."
      ]
    },
    {
      "cell_type": "markdown",
      "metadata": {
        "id": "GDjHqupDkMtO",
        "colab_type": "text"
      },
      "source": [
        "#### Question 3.1a2:\n",
        "\n",
        "What would happen if we wanted to swap out the coloring for a string variable?  We are after all interested in looking at our drilling parameters based on lithology.  This well has both carbonate and clastic sections, can we see if an relationship exists between lithology our mudlogging pressure and temperature measurements?"
      ]
    },
    {
      "cell_type": "code",
      "metadata": {
        "id": "H66qkamukMOi",
        "colab_type": "code",
        "colab": {}
      },
      "source": [
        "px.scatter(pharos_curve_df, x='STAND PIPE PRESSURE', y='DEPTH', color='LITHOLOGY', \n",
        "           labels={'STAND PIPE PRESSURE':'STAND PIPE PRESSURE (PSI)', 'DEPTH':'DEPTH (m)', 'TEMPERATURE OUT':'TEMPERATURE OUT (degC)'}, \n",
        "           range_y=[5220,2290], range_color=[0,50], width=700, height=1000)"
      ],
      "execution_count": 0,
      "outputs": []
    },
    {
      "cell_type": "markdown",
      "metadata": {
        "id": "sVhRrYFZE2Tt",
        "colab_type": "text"
      },
      "source": [
        "#### Question 3.1a3\n",
        "\n",
        "Does this lithology plot look right to you?"
      ]
    },
    {
      "cell_type": "markdown",
      "metadata": {
        "id": "F6uJmZfIFHYr",
        "colab_type": "text"
      },
      "source": [
        "#### 3.1b Making a color map and category map\n",
        "\n",
        "We can do two things to improve the lithology rendering on this plot.  The first is to make a color map to assign certain colors to the different categories.  The second is to map lithologies to larger categories to make it simpler to read (we will continue to explore this later)"
      ]
    },
    {
      "cell_type": "code",
      "metadata": {
        "id": "w23Wv3I0E1jE",
        "colab_type": "code",
        "colab": {}
      },
      "source": [
        "lithology_list = list(pharos_curve_df.LITHOLOGY.unique())"
      ],
      "execution_count": 0,
      "outputs": []
    },
    {
      "cell_type": "code",
      "metadata": {
        "id": "QtCP8zD7YmY_",
        "colab_type": "code",
        "colab": {}
      },
      "source": [
        "lithology_list"
      ],
      "execution_count": 0,
      "outputs": []
    },
    {
      "cell_type": "code",
      "metadata": {
        "id": "5N6IV6mTI5Ha",
        "colab_type": "code",
        "colab": {}
      },
      "source": [
        "detailed_color_list = ['#adadad', '#adadad', '#41a4fa', '#aad5fa', '#33e2f2', '#a0b8ba', '#faf09b', '#46eefa', '#aad5fa',\n",
        "              '#b0b7f5', '#faf09b', '#46eefa', '#b4debe', '#faf09b', '#b4debe', '#cbf5ae', '#faf09b', '#b4debe', \n",
        "              '#b4debe', '#b4debe']  ## Adapted from USGS Lithology colors"
      ],
      "execution_count": 0,
      "outputs": []
    },
    {
      "cell_type": "code",
      "metadata": {
        "id": "6nEEa-5xNUct",
        "colab_type": "code",
        "colab": {}
      },
      "source": [
        "dict_detailed_colors = dict(zip(lithology_list, detailed_color_list))"
      ],
      "execution_count": 0,
      "outputs": []
    },
    {
      "cell_type": "code",
      "metadata": {
        "id": "a0ogP43FxkYF",
        "colab_type": "code",
        "colab": {}
      },
      "source": [
        "dict_detailed_colors"
      ],
      "execution_count": 0,
      "outputs": []
    },
    {
      "cell_type": "code",
      "metadata": {
        "id": "5RpRDYsYLl9I",
        "colab_type": "code",
        "colab": {}
      },
      "source": [
        "category_list = ['Undefined', 'Undefined',  'Carbonate', 'Carbonate', 'Mixed Carbonate/Clastic', 'Chemical', 'Clastic',\n",
        "                 'Carbonate', 'Carbonate', 'Chemical', 'Clastic', 'Carbonate', 'Clastic', 'Clastic', 'Clastic', 'Clastic',\n",
        "                 'Clastic', 'Clastic', 'Clastic', 'Clastic']"
      ],
      "execution_count": 0,
      "outputs": []
    },
    {
      "cell_type": "code",
      "metadata": {
        "id": "LawVtku6MgGn",
        "colab_type": "code",
        "colab": {}
      },
      "source": [
        "category_colors = {'Undefined':'#adadad', 'Carbonate':'#6efaff', 'Mixed Carbonate/Clastic':'#4ce0c8',\n",
        "                   'Chemical':'#cabae3', 'Clastic':'#faf09b', 'Volcanic':'#f3c1f5'}"
      ],
      "execution_count": 0,
      "outputs": []
    },
    {
      "cell_type": "markdown",
      "metadata": {
        "id": "YchGqDdoMWHs",
        "colab_type": "text"
      },
      "source": [
        "And now to build the dictionaries we need and add the lithology categories to our dataframe (we will use this later)"
      ]
    },
    {
      "cell_type": "code",
      "metadata": {
        "id": "8T-DMVnkNaAQ",
        "colab_type": "code",
        "colab": {}
      },
      "source": [
        "lith_category = dict(zip(lithology_list, category_list))\n",
        "pharos_curve_df.loc[:,'LITH_CATEGORY'] = pharos_curve_df['LITHOLOGY'].map(lith_category)"
      ],
      "execution_count": 0,
      "outputs": []
    },
    {
      "cell_type": "code",
      "metadata": {
        "id": "UNbtj7ORWobS",
        "colab_type": "code",
        "colab": {}
      },
      "source": [
        "pharos_curve_df"
      ],
      "execution_count": 0,
      "outputs": []
    },
    {
      "cell_type": "markdown",
      "metadata": {
        "id": "2AzCUJzLOJRN",
        "colab_type": "text"
      },
      "source": [
        "Now we can generate two new plots with these mappings:"
      ]
    },
    {
      "cell_type": "code",
      "metadata": {
        "id": "DhYHKg9DOTpe",
        "colab_type": "code",
        "colab": {}
      },
      "source": [
        "px.scatter(pharos_curve_df, x='STAND PIPE PRESSURE', y='DEPTH', color='LITHOLOGY',\n",
        "           labels={'STAND PIPE PRESSURE':'STAND PIPE PRESSURE (PSI)', 'DEPTH':'DEPTH (m)', 'TEMPERATURE OUT':'TEMPERATURE OUT (degC)'}, \n",
        "           color_discrete_map=dict_detailed_colors,\n",
        "           range_y=[5220,2290], range_color=[0,50], width=700, height=1000)"
      ],
      "execution_count": 0,
      "outputs": []
    },
    {
      "cell_type": "code",
      "metadata": {
        "id": "fm2V7Nm4OTZQ",
        "colab_type": "code",
        "colab": {}
      },
      "source": [
        "px.scatter(pharos_curve_df, x='STAND PIPE PRESSURE', y='DEPTH', color='LITH_CATEGORY', \n",
        "           labels={'STAND PIPE PRESSURE':'STAND PIPE PRESSURE (PSI)', 'DEPTH':'DEPTH (m)', 'TEMPERATURE OUT':'TEMPERATURE OUT (degC)'}, \n",
        "           color_discrete_map=category_colors, range_y=[5500,0], width=800, height=1000)"
      ],
      "execution_count": 0,
      "outputs": []
    },
    {
      "cell_type": "markdown",
      "metadata": {
        "id": "h965d5T1TNQk",
        "colab_type": "text"
      },
      "source": [
        "#### 3.1c  Lines versus Scatter?\n",
        "We've been displaying this data as points, but typically for well logs, we view them as lines.  Let's see what this looks like.  "
      ]
    },
    {
      "cell_type": "code",
      "metadata": {
        "id": "_-m3NlgBTmCs",
        "colab_type": "code",
        "colab": {}
      },
      "source": [
        "px.line(pharos_curve_df, x='STAND PIPE PRESSURE', y='DEPTH', hover_name='TEMPERATURE OUT', \n",
        "           labels={'STAND PIPE PRESSURE':'STAND PIPE PRESSURE (PSI)', 'DEPTH':'DEPTH (m)', 'TEMPERATURE OUT':'TEMPERATURE OUT (degC)'}, \n",
        "           range_y=[5220,0], width=600, height=1000)"
      ],
      "execution_count": 0,
      "outputs": []
    },
    {
      "cell_type": "markdown",
      "metadata": {
        "id": "ifp28DpzVK6p",
        "colab_type": "text"
      },
      "source": [
        "Looks like a well log right!  Unfortunately, plotly express doesn't support coloring the line with different lithologies..so we need to move to another package - Holoviews and its wrapper for pandas: hvplot.  We are leaving plotly express for now, but there is way more functionality and you can even dig deeper into plotly itself."
      ]
    },
    {
      "cell_type": "markdown",
      "metadata": {
        "id": "SIx0ul-vk5ne",
        "colab_type": "text"
      },
      "source": [
        "#### 3.1d A first look at hvplot\n",
        "\n",
        "Plotly_express is great for quick, single plots with interactive investigation.  Now, we will get introduced to HoloViews - hvplot, which allows us to do some more complicated things using the bokeh plotting engine.  Most importantly, we can begin adding easily adding drop-down menus to build interactivity through selection.  Google Colab doesn't fully support holoviews, so we have to load the extension for each plot (you won't have to do this with a regular Jupyter notebook)."
      ]
    },
    {
      "cell_type": "code",
      "metadata": {
        "id": "m_YEdWU3nsF-",
        "colab_type": "code",
        "colab": {}
      },
      "source": [
        "hv.extension('bokeh')\n",
        "\n",
        "pharos_curve_df.hvplot(x='DEPTH', y='STAND PIPE PRESSURE', invert=True, flip_yaxis=True, height=1000, width=700).opts(fontsize={'labels': 16,'xticks': 14, 'yticks': 14}, \n",
        "                                                                                                                      xlabel='DEPTH (m)', ylabel='STAND PIPE PRESSURE (PSI)')"
      ],
      "execution_count": 0,
      "outputs": []
    },
    {
      "cell_type": "markdown",
      "metadata": {
        "id": "rGJSyBUYYEOD",
        "colab_type": "text"
      },
      "source": [
        "#### Question 3.1d1\n",
        "What are the major differences in how plots are formatted in hvplot versus plotly express?"
      ]
    },
    {
      "cell_type": "markdown",
      "metadata": {
        "id": "MSsvXsfhqNrc",
        "colab_type": "text"
      },
      "source": [
        "####3.1e Combining plots in hvplot\n",
        "We can combine plots together super easily in hvplot.  We will use this later to build a well section!  For now, our plots are static, and we can show a curve and a table of that curve side by side.  The tables in hvplot are also interactive - You can very quickly sort."
      ]
    },
    {
      "cell_type": "code",
      "metadata": {
        "id": "teE26tdzrCnC",
        "colab_type": "code",
        "colab": {}
      },
      "source": [
        "hv.extension('bokeh')\n",
        "curve = pharos_curve_df.hvplot(x='DEPTH', y='STAND PIPE PRESSURE', invert=True, flip_yaxis=True, \n",
        "                       height=800, width=600).opts(fontsize={'labels': 16,'xticks': 14, 'yticks': 14}, \n",
        "                       xlabel='DEPTH (m)', ylabel='STAND PIPE PRESSURE (PSI)')\n",
        "table = pharos_curve_df.hvplot.table(columns=['DEPTH','STAND PIPE PRESSURE'])\n",
        "\n",
        "curve + table"
      ],
      "execution_count": 0,
      "outputs": []
    },
    {
      "cell_type": "markdown",
      "metadata": {
        "id": "0BDC7YxCrF6m",
        "colab_type": "text"
      },
      "source": [
        "####3.1f \"easy\" well section with hvplot subplots\n",
        "There is a cheater method for building a well section in hvplot - however without extensive customization, it is only good for well logs of a single type (ie, linear...). "
      ]
    },
    {
      "cell_type": "code",
      "metadata": {
        "id": "vmt3xcwti-na",
        "colab_type": "code",
        "colab": {}
      },
      "source": [
        "def getnumeric(df, depthcurvename):\n",
        "  curve_list=list(df.columns[(df.dtypes.values == np.dtype('float64'))])\n",
        "  curve_list.remove(depthcurvename)\n",
        "  return curve_list;"
      ],
      "execution_count": 0,
      "outputs": []
    },
    {
      "cell_type": "code",
      "metadata": {
        "id": "XVtewjmMkcld",
        "colab_type": "code",
        "colab": {}
      },
      "source": [
        "curve_list = getnumeric(pharos_curve_df, 'DEPTH')"
      ],
      "execution_count": 0,
      "outputs": []
    },
    {
      "cell_type": "code",
      "metadata": {
        "id": "Y3YlMZVQll9v",
        "colab_type": "code",
        "colab": {}
      },
      "source": [
        "len(curve_list)"
      ],
      "execution_count": 0,
      "outputs": []
    },
    {
      "cell_type": "code",
      "metadata": {
        "id": "cemi8Htfkog6",
        "colab_type": "code",
        "colab": {}
      },
      "source": [
        "hv.extension('bokeh')\n",
        "pharos_curve_df.hvplot(x='DEPTH', y=curve_list, subplots=True, invert=True, flip_yaxis=True, shared_axes=False, width=300, height=800).cols(len(curve_list))"
      ],
      "execution_count": 0,
      "outputs": []
    },
    {
      "cell_type": "markdown",
      "metadata": {
        "id": "xM0Ord659yPP",
        "colab_type": "text"
      },
      "source": [
        "####Question 3.1f1\n",
        "What could make this well section better?  \n",
        "\n",
        "Units, synchronized scrolling..."
      ]
    },
    {
      "cell_type": "markdown",
      "metadata": {
        "id": "qxhHIn9cb5r_",
        "colab_type": "text"
      },
      "source": [
        "#### 3.1g Adding in Panel"
      ]
    },
    {
      "cell_type": "markdown",
      "metadata": {
        "id": "JlHceFyG7jrX",
        "colab_type": "text"
      },
      "source": [
        "Panel allows us to take plots from multiple plotting packages and combine them together.  Let's re-create one of the plotly express plots and combine it with a table from hvplot.  We will use the pn.Row to organize the plots - we will just put everything in one row for now."
      ]
    },
    {
      "cell_type": "code",
      "metadata": {
        "id": "z_bsy4N-b4-h",
        "colab_type": "code",
        "colab": {}
      },
      "source": [
        "hv.extension('bokeh')\n",
        "pn.extension('plotly')\n",
        "\n",
        "lithology_pressure = px.scatter(pharos_curve_df, x='STAND PIPE PRESSURE', y='DEPTH', color='LITH_CATEGORY',  \n",
        "           labels={'STAND PIPE PRESSURE':'STAND PIPE PRESSURE (PSI)', 'DEPTH':'DEPTH (m)', 'TEMPERATURE OUT':'TEMPERATURE OUT (degC)'}, \n",
        "           color_discrete_map=category_colors, range_y=[5500,0], width=800, height=1000)\n",
        "\n",
        "curve = px.line(pharos_curve_df, x='STAND PIPE PRESSURE', y='DEPTH', \n",
        "           labels={'STAND PIPE PRESSURE':'STAND PIPE PRESSURE (PSI)', 'DEPTH':'DEPTH (m)', 'TEMPERATURE OUT':'TEMPERATURE OUT (degC)'}, \n",
        "           range_y=[5220,0], width=600, height=1000)\n",
        "\n",
        "table = pharos_curve_df.hvplot.table(columns=['DEPTH','STAND PIPE PRESSURE', 'LITH_CATEGORY'])\n",
        "\n",
        "pn.Row(\n",
        "    pn.Row(\"## Major Lithologies vs Stand Pipe Pressure\\nHover over the plot for more information.\", curve, lithology_pressure, table)\n",
        ")"
      ],
      "execution_count": 0,
      "outputs": []
    },
    {
      "cell_type": "markdown",
      "metadata": {
        "id": "juFKA2n57YzY",
        "colab_type": "text"
      },
      "source": [
        "Let's recreate the hvplot well section above, but now we can make it better by using Panel to stitch together each plot, instead of using the hvplot subplots call.  We can use the hvplot Layout list function (http://holoviews.org/user_guide/Composing_Elements.html) tools to help us when the number of curves can change from one file to another instead of using the plus sign notation."
      ]
    },
    {
      "cell_type": "code",
      "metadata": {
        "id": "PkgwWwbd7tvI",
        "colab_type": "code",
        "colab": {}
      },
      "source": [
        "hv.extension('bokeh')\n",
        "\n",
        "def curve_plot(log, df, depthname):\n",
        "  aplot = df.hvplot(x=depthname, y=log, invert=True, flip_yaxis=True, shared_axes=True,\n",
        "                       height=800, width=300).opts(fontsize={'labels': 16,'xticks': 14, 'yticks': 14})\n",
        "  return aplot;\n",
        "\n",
        "plotlist = [curve_plot(x, df=pharos_curve_df, depthname='DEPTH') for x in curve_list]\n",
        "well_section = hv.Layout(plotlist).cols(len(curve_list))\n",
        "pn.Row(well_section)"
      ],
      "execution_count": 0,
      "outputs": []
    },
    {
      "cell_type": "markdown",
      "metadata": {
        "id": "FdBzwwdlbm6m",
        "colab_type": "text"
      },
      "source": [
        "Now we get synchronized scrolling!  With this function, we can also now start adding customization for different types of curves.  You could think about this for log scales for resistivity, or green shading for gamma ray.  Let's do a quick change to first curve below."
      ]
    },
    {
      "cell_type": "code",
      "metadata": {
        "id": "uIKLuFt4cSrc",
        "colab_type": "code",
        "colab": {}
      },
      "source": [
        "hv.extension('bokeh')\n",
        "\n",
        "def curve_plot(log, df, depthname):\n",
        "  if log == 'ROP OFFLINE':\n",
        "    aplot = df.hvplot(x=depthname, y=log, invert=True, flip_yaxis=True, shared_axes=True,\n",
        "                       height=800, width=300).opts(fontsize={'labels': 16,'xticks': 14, 'yticks': 14}).opts(line_dash='dashed', color='red')\n",
        "  else:\n",
        "    aplot = df.hvplot(x=depthname, y=log, invert=True, flip_yaxis=True, shared_axes=True,\n",
        "                       height=800, width=300).opts(fontsize={'labels': 16,'xticks': 14, 'yticks': 14})\n",
        "  return aplot;\n",
        "\n",
        "plotlist = [curve_plot(x, df=pharos_curve_df, depthname='DEPTH') for x in curve_list]\n",
        "well_section = hv.Layout(plotlist).cols(len(curve_list))\n",
        "pn.Row(well_section)"
      ],
      "execution_count": 0,
      "outputs": []
    },
    {
      "cell_type": "markdown",
      "metadata": {
        "id": "UcDjsa9ifZd3",
        "colab_type": "text"
      },
      "source": [
        "The last thing we will take a look at with panel is adding some basic interactivity.  Remember the plot above with the single curve and the table - let's try making this interactive!"
      ]
    },
    {
      "cell_type": "markdown",
      "metadata": {
        "id": "SVN2Q9xxN6pD",
        "colab_type": "text"
      },
      "source": [
        "### 3.2 Multiple Wells\n",
        "We've gone through some options for a single well, but often the power in interactive well data visualization comes from comparing multiple wells at once.\n",
        "\n",
        "Be aware that one thing I have come across in presenting is that once you start showing well data from multiple wells, a map of where those wells located becomes important to highlight any spatial distances between well log data you are comparing.  This means be prepared to add in more \"well header\" data to your dataframe - importantly the latitude and longitude.\n",
        "\n",
        "Also, now is when we need to talk a little bit more about dataframe structuring and the \"by\" parameter in hvplot especially.  It is important to ensure that within a single column you have the variables you want to provide the interactivity on.  Let's go through a small example with plotly express and then with hvplot below with just two wells.\n",
        "\n",
        "First, we need to load the data for the new well Poisidon North-1 (I've cheated a little to pick two already standardized las and lithology files - standardizing the well log data across wells is a whole huge process in itself).\n",
        "\n",
        "Then we will merge the dataframes together.\n",
        "\n",
        "Files are here:\n",
        "1. Las Mud Log: https://drive.google.com/file/d/1j1sLFl8Z31qQTfrGoDU6gHsX0yx1ShKA/view?usp=sharing\n",
        "2. Lithology report: https://drive.google.com/file/d/1w4OJln6mzw-hDCe3YTRVVAsTLI5RDIcv/view?usp=sharing"
      ]
    },
    {
      "cell_type": "markdown",
      "metadata": {
        "id": "DsVB1alScB7B",
        "colab_type": "text"
      },
      "source": [
        "#### 3.2a A little data wrangling...\n",
        "We need to get both wells' data and lithologies into a single dataframe."
      ]
    },
    {
      "cell_type": "code",
      "metadata": {
        "id": "YoWpWlnISx4b",
        "colab_type": "code",
        "colab": {}
      },
      "source": [
        "filepath = r'/content/drive/My Drive/Poseidon North-1 Ascii Drill Data_508-5287m.LAS'"
      ],
      "execution_count": 0,
      "outputs": []
    },
    {
      "cell_type": "code",
      "metadata": {
        "id": "srzXV15CTCeH",
        "colab_type": "code",
        "colab": {}
      },
      "source": [
        "poseidon_curve_df = load_las_to_df(filepath)"
      ],
      "execution_count": 0,
      "outputs": []
    },
    {
      "cell_type": "code",
      "metadata": {
        "id": "VFDZ2lhDTGCK",
        "colab_type": "code",
        "colab": {}
      },
      "source": [
        "filepath = r'/content/drive/My Drive/Poseidon North-1 Ascii Lithology Intrepretation_2459m to 5287m.xlsx'"
      ],
      "execution_count": 0,
      "outputs": []
    },
    {
      "cell_type": "code",
      "metadata": {
        "id": "rLkNxCOOTXhO",
        "colab_type": "code",
        "colab": {}
      },
      "source": [
        "poseidon_lith_df = load_lithxls_to_df(filepath)"
      ],
      "execution_count": 0,
      "outputs": []
    },
    {
      "cell_type": "code",
      "metadata": {
        "id": "EXcs_9joUI4g",
        "colab_type": "code",
        "colab": {}
      },
      "source": [
        "poseidon_lith_df.index = pd.IntervalIndex.from_arrays(poseidon_lith_df['From depth'],poseidon_lith_df['To depth'],closed='both')\n",
        "poseidon_curve_df['LITHOLOGY'] = poseidon_curve_df['DEPTH'].apply(\n",
        "    lambda x : poseidon_lith_df.iloc[poseidon_lith_df.index.get_loc(x)]['Litho_description'])\n",
        "poseidon_curve_df = drop_weird_results(poseidon_curve_df, 'LITHOLOGY', 'Name:')"
      ],
      "execution_count": 0,
      "outputs": []
    },
    {
      "cell_type": "markdown",
      "metadata": {
        "id": "K7P8H2hmbilc",
        "colab_type": "text"
      },
      "source": [
        "And we need to update our color mapping as Poseidon North has some new lithologies we haven't seen before!"
      ]
    },
    {
      "cell_type": "code",
      "metadata": {
        "id": "SygOTVNht8PE",
        "colab_type": "code",
        "colab": {}
      },
      "source": [
        "missing = sorted(list(set(lithology_list) ^ set(list(poseidon_curve_df.LITHOLOGY.unique()))))"
      ],
      "execution_count": 0,
      "outputs": []
    },
    {
      "cell_type": "code",
      "metadata": {
        "id": "2PODpOLo_mhE",
        "colab_type": "code",
        "colab": {}
      },
      "source": [
        "missing"
      ],
      "execution_count": 0,
      "outputs": []
    },
    {
      "cell_type": "code",
      "metadata": {
        "id": "z-0OV33KTvKI",
        "colab_type": "code",
        "colab": {}
      },
      "source": [
        "dict_detailed_colors.update(dict(zip(missing, ['#faf09b', '#46eefa', '#b4debe', '#cbf5ae', '#b4debe', '#faf09b', '#adadad', '#cbf5ae', '#f3c1f5'])))\n",
        "lith_category.update(dict(zip(missing, ['Clastic', 'Chemical', 'Clastic', 'Clastic', 'Clastic', 'Clastic', 'Undefined', 'Clastic', 'Volcanic'])))\n",
        "poseidon_curve_df.loc[:,'LITH_CATEGORY'] = poseidon_curve_df['LITHOLOGY'].map(lith_category)"
      ],
      "execution_count": 0,
      "outputs": []
    },
    {
      "cell_type": "code",
      "metadata": {
        "id": "crGHPmWk0FbQ",
        "colab_type": "code",
        "colab": {}
      },
      "source": [
        "dict_detailed_colors"
      ],
      "execution_count": 0,
      "outputs": []
    },
    {
      "cell_type": "markdown",
      "metadata": {
        "id": "-hrNAJYAbyJT",
        "colab_type": "text"
      },
      "source": [
        "We need to combine our two well dataframes into one.  First, we will add the WGS84 coordinates from the well header to each well's dataframe.  Remember we added the wellname as it's own column?  This is so we can keep track of the records that come from each well and this will become important for selections."
      ]
    },
    {
      "cell_type": "code",
      "metadata": {
        "id": "-bvANJ6F2RGU",
        "colab_type": "code",
        "colab": {}
      },
      "source": [
        "poseidon_curve_df['LATITUDE'] = -13.573562\n",
        "pharos_curve_df['LATITUDE'] = -13.681989\n",
        "poseidon_curve_df['LONGITUDE'] = 122.340154\n",
        "pharos_curve_df['LONGITUDE'] = 122.399306"
      ],
      "execution_count": 0,
      "outputs": []
    },
    {
      "cell_type": "code",
      "metadata": {
        "id": "6zbF4wQDbWjB",
        "colab_type": "code",
        "colab": {}
      },
      "source": [
        "multiple_wells_df = pd.concat([poseidon_curve_df, pharos_curve_df], ignore_index=True)"
      ],
      "execution_count": 0,
      "outputs": []
    },
    {
      "cell_type": "code",
      "metadata": {
        "id": "6WB0voB8cuZi",
        "colab_type": "code",
        "colab": {}
      },
      "source": [
        "multiple_wells_df"
      ],
      "execution_count": 0,
      "outputs": []
    },
    {
      "cell_type": "code",
      "metadata": {
        "id": "l6Ot6lZW4Srb",
        "colab_type": "code",
        "colab": {}
      },
      "source": [
        "multiple_wells_df.to_csv(\"/content/drive/My Drive/mutliple_wells_df.csv\")"
      ],
      "execution_count": 0,
      "outputs": []
    },
    {
      "cell_type": "markdown",
      "metadata": {
        "id": "v_wKnNw-o98i",
        "colab_type": "text"
      },
      "source": [
        "#### 3.2b The by keyword in hvplot\n",
        "\n",
        "It is very quick and easy now to categorize on the wellname series.  In hvplot, we can overlay the two wells using the by parameter. Note that this differs from groupby which I will demo soon."
      ]
    },
    {
      "cell_type": "code",
      "metadata": {
        "id": "JoHgzqHZnOxS",
        "colab_type": "code",
        "colab": {}
      },
      "source": [
        "hv.extension('bokeh')\n",
        "multiple_wells_df.hvplot(x='DEPTH', y='STAND PIPE PRESSURE', by='WELLNAME', invert=True, flip_yaxis=True, height=800, width=600).opts(fontsize={'labels': 16,'xticks': 14, 'yticks': 14}, \n",
        "                                                                                                                                      xlabel='DEPTH (m)', ylabel='STAND PIPE PRESSURE (PSI)')"
      ],
      "execution_count": 0,
      "outputs": []
    },
    {
      "cell_type": "code",
      "metadata": {
        "id": "WbUwG1HcuLHT",
        "colab_type": "code",
        "colab": {}
      },
      "source": [
        "hv.extension('bokeh')\n",
        "\n",
        "curve_list = getnumeric(multiple_wells_df, 'DEPTH')\n",
        "\n",
        "def curve_plot(log, df, depthname):\n",
        "  aplot = df.hvplot(x=depthname, y=log, by='WELLNAME', invert=True, flip_yaxis=True, shared_axes=True, alpha=0.4,\n",
        "                       height=800, width=300).opts(fontsize={'labels': 12,'xticks': 10, 'yticks': 10}).opts(legend_position='top')\n",
        "  return aplot;\n",
        "\n",
        "plotlist = [curve_plot(x, df=multiple_wells_df, depthname='DEPTH') for x in curve_list]\n",
        "well_section = hv.Layout(plotlist).cols(len(curve_list))\n",
        "pn.Row(well_section)"
      ],
      "execution_count": 0,
      "outputs": []
    },
    {
      "cell_type": "markdown",
      "metadata": {
        "id": "bBBsyEATpT5h",
        "colab_type": "text"
      },
      "source": [
        "#### 3.2c A little bit more on plotly express\n",
        "There are two easy options in plotly express for dealing with multiple wells - the first is the facet col option.  The second is the simple color option."
      ]
    },
    {
      "cell_type": "code",
      "metadata": {
        "id": "gnmP0ZDEk6Ny",
        "colab_type": "code",
        "colab": {}
      },
      "source": [
        "hv.extension('bokeh')\n",
        "pn.extension('plotly')\n",
        "\n",
        "lithology_pressure = px.scatter(multiple_wells_df, x='STAND PIPE PRESSURE', y='DEPTH', facet_col=\"WELLNAME\", color='LITH_CATEGORY', \n",
        "           labels={'STAND PIPE PRESSURE':'STAND PIPE PRESSURE (PSI)', 'DEPTH':'DEPTH (m)', 'TEMPERATURE OUT':'TEMPERATURE OUT (degC)'}, \n",
        "           color_discrete_map=category_colors, range_y=[5500,0], width=800, height=1000)\n",
        "\n",
        "curve = px.line(multiple_wells_df, x='STAND PIPE PRESSURE', y='DEPTH', color=\"WELLNAME\", hover_name='WELLNAME', \n",
        "           labels={'STAND PIPE PRESSURE':'STAND PIPE PRESSURE (PSI)', 'DEPTH':'DEPTH (m)', 'TEMPERATURE OUT':'TEMPERATURE OUT (degC)'}, \n",
        "           range_y=[5500,0], width=800, height=1000)\n",
        "\n",
        "temp = px.scatter(multiple_wells_df, x='STAND PIPE PRESSURE', y='DEPTH', facet_col=\"WELLNAME\", color='TEMPERATURE OUT', \n",
        "           labels={'STAND PIPE PRESSURE':'STAND PIPE PRESSURE (PSI)', 'DEPTH':'DEPTH (m)', 'TEMPERATURE OUT':'TEMPERATURE OUT (degC)'}, \n",
        "           range_y=[5500,0], range_color=[0,50], width=800, height=1000)\n",
        "\n",
        "table = multiple_wells_df.hvplot.table(columns=['WELLNAME', 'DEPTH', 'STAND PIPE PRESSURE', 'TEMPERATURE OUT', 'LITH_CATEGORY'])\n",
        "\n",
        "map = px.scatter_geo(multiple_wells_df, lat=\"LATITUDE\", lon=\"LONGITUDE\", color=\"WELLNAME\", scope='world', width=800, height=600)\n",
        "map.update_layout(showlegend=False)\n",
        "\n",
        "pn.Row(\n",
        "    pn.Column(\"## Major Lithologies vs Stand Pipe Pressure and Temperature Out\\nHover over the plot for more information.\", table, map),\n",
        "    pn.Row(curve, temp, lithology_pressure)\n",
        ")"
      ],
      "execution_count": 0,
      "outputs": []
    },
    {
      "cell_type": "markdown",
      "metadata": {
        "id": "5rxfIdCg7A9b",
        "colab_type": "text"
      },
      "source": [
        "BUT!  There isn't any cross interactivity here - what if we want to do that?"
      ]
    },
    {
      "cell_type": "markdown",
      "metadata": {
        "id": "BkcsPTqB6P7h",
        "colab_type": "text"
      },
      "source": [
        "## Dashboarding with Selection\n",
        "\n",
        "Now we will move outside of Google Colab to work with widgets and interactivity from one plot to another.  Unfortunately they do not work in the Google Jupyter environment...so instead I'll be showing you some things in Jupyter notebook on my own computer.  You are welcome to download this notebook yourself from: https://github.com/aruss175/transform_2020_intro_viz/tree/master/notebooks"
      ]
    }
  ]
}